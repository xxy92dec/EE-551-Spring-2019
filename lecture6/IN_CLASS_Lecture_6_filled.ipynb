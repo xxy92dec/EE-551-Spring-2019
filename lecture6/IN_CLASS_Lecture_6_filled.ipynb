{
 "cells": [
  {
   "cell_type": "markdown",
   "metadata": {},
   "source": [
    "# Introducing Python Statements\n",
    "\n",
    "Programs written in the Python language are composed of statements and expressions. Expressions process objects and are embedded in statements. Statements code the larger logic of a program’s operation.\n",
    "\n",
    "The following table summarizes Python's statements:\n",
    "\n",
    "![alt text](../figures/statements.png)\n",
    "\n",
    "![alt text](../figures/statements2.png)"
   ]
  },
  {
   "cell_type": "markdown",
   "metadata": {},
   "source": [
    "### The colon character (:)\n",
    "\n",
    "The one new syntax component in Python is the colon character (:). All Python compound statements—statements that have other statements nested inside them—follow the same general pattern of a header line terminated in a colon, followed by a nested block of code usually indented underneath the header line, like this:"
   ]
  },
  {
   "cell_type": "raw",
   "metadata": {},
   "source": [
    "Header line: \n",
    "    Nested statement block "
   ]
  },
  {
   "cell_type": "markdown",
   "metadata": {},
   "source": [
    "### Paranthesis are optional"
   ]
  },
  {
   "cell_type": "raw",
   "metadata": {},
   "source": [
    "if(x < y)\n",
    "\n",
    "if x < y"
   ]
  },
  {
   "cell_type": "markdown",
   "metadata": {},
   "source": [
    "### End of line is end statement"
   ]
  },
  {
   "cell_type": "code",
   "execution_count": 1,
   "metadata": {},
   "outputs": [],
   "source": [
    "x = 1;"
   ]
  },
  {
   "cell_type": "code",
   "execution_count": 2,
   "metadata": {},
   "outputs": [],
   "source": [
    "x = 1"
   ]
  },
  {
   "cell_type": "markdown",
   "metadata": {},
   "source": [
    "### End of indentation is end of block\n",
    "\n",
    "You don't need to include begin/end, then/endif, or braces around the nested block, as you do in C-like languages:"
   ]
  },
  {
   "cell_type": "raw",
   "metadata": {},
   "source": [
    "if (x > y){ \n",
    "    x = 1;\n",
    "    y = 2; \n",
    "}"
   ]
  },
  {
   "cell_type": "markdown",
   "metadata": {},
   "source": [
    "Instead, in Python, we consistently indent all the statements in a given single nested block the same distance to the right, and Python uses the statements’ physical inden- tation to determine where the block starts and stops:"
   ]
  },
  {
   "cell_type": "raw",
   "metadata": {},
   "source": [
    "if x > y: \n",
    "    x = 1 \n",
    "    y = 2"
   ]
  },
  {
   "cell_type": "markdown",
   "metadata": {},
   "source": [
    "Python doesn’t care how you indent (you may use either spaces or tabs), or how much you indent (you may use any number of spaces or tabs). In fact, the indentation of one nested block can be totally different from that of another. The syntax rule is only that for a given single nested block, all of its statements must be indented the same distance to the right. "
   ]
  },
  {
   "cell_type": "markdown",
   "metadata": {},
   "source": [
    "The indentation rule is one of the main ways the Python almost forces programmers to produce uniform, regular, and readable code."
   ]
  },
  {
   "cell_type": "markdown",
   "metadata": {},
   "source": [
    "### Statement Rule Special Cases\n",
    "\n",
    "It is possible to squeeze more than one statement onto a single line in Python by separating them with semicolons:"
   ]
  },
  {
   "cell_type": "code",
   "execution_count": 3,
   "metadata": {},
   "outputs": [
    {
     "name": "stdout",
     "output_type": "stream",
     "text": [
      "3\n"
     ]
    }
   ],
   "source": [
    "a = 1; b = 2; print(a + b) # Three statements on one line"
   ]
  },
  {
   "cell_type": "markdown",
   "metadata": {},
   "source": [
    "Compound statements like if tests and while loops must still appear on lines of their own.\n",
    "\n",
    "The other special rule for statements is essentially the inverse: you can make a single statement span across multiple lines. \n",
    "\n",
    "To make this work, you simply have to enclose part of your statement in a bracketed pair—parentheses (()), square brackets ([]), or curly braces ({}). \n",
    "\n",
    "For instance, to continue a list literal:"
   ]
  },
  {
   "cell_type": "code",
   "execution_count": 4,
   "metadata": {},
   "outputs": [],
   "source": [
    "mylist = [1111,\n",
    "          2222,\n",
    "          3333]"
   ]
  },
  {
   "cell_type": "markdown",
   "metadata": {},
   "source": [
    "The body of a compound statement can appear on the same line as the header in Python, after the colon:"
   ]
  },
  {
   "cell_type": "raw",
   "metadata": {},
   "source": [
    "if x > y: print(x)"
   ]
  },
  {
   "cell_type": "markdown",
   "metadata": {},
   "source": [
    "### A Simple Interactive Loop\n",
    "\n",
    "Suppose you need to write a classic read/evaluate/print loop program."
   ]
  },
  {
   "cell_type": "code",
   "execution_count": 6,
   "metadata": {},
   "outputs": [
    {
     "name": "stdout",
     "output_type": "stream",
     "text": [
      "Enter text:stevens\n",
      "STEVENS\n",
      "Enter text:hoboken\n",
      "HOBOKEN\n",
      "Enter text:stop\n"
     ]
    }
   ],
   "source": [
    "while True:\n",
    "    reply = input('Enter text:')\n",
    "    if reply == 'stop': break\n",
    "    print(reply.upper())"
   ]
  },
  {
   "cell_type": "markdown",
   "metadata": {},
   "source": [
    "Now suppose that instead of converting a text string to uppercase, we want to do some math with numeric input—squaring it."
   ]
  },
  {
   "cell_type": "code",
   "execution_count": 7,
   "metadata": {},
   "outputs": [
    {
     "name": "stdout",
     "output_type": "stream",
     "text": [
      "Enter text:4\n",
      "16\n",
      "Enter text:5\n",
      "25\n",
      "Enter text:stop\n",
      "Bye\n"
     ]
    }
   ],
   "source": [
    "while True:\n",
    "    reply = input('Enter text:') \n",
    "    if reply == 'stop': break \n",
    "    print(int(reply) ** 2)\n",
    "print('Bye')"
   ]
  },
  {
   "cell_type": "markdown",
   "metadata": {},
   "source": [
    "What happens when the input is invalid?"
   ]
  },
  {
   "cell_type": "code",
   "execution_count": 8,
   "metadata": {},
   "outputs": [
    {
     "name": "stdout",
     "output_type": "stream",
     "text": [
      "Enter text:3\n",
      "9\n",
      "Enter text:stevens\n",
      "Bad!Bad!Bad!Bad!Bad!Bad!Bad!Bad!\n",
      "Enter text:sto\n",
      "Bad!Bad!Bad!Bad!Bad!Bad!Bad!Bad!\n",
      "Enter text:stop\n",
      "Bye\n"
     ]
    }
   ],
   "source": [
    "while True:\n",
    "    reply = input('Enter text:') \n",
    "    if reply == 'stop': \n",
    "        break\n",
    "    elif not reply.isdigit():\n",
    "        print('Bad!' * 8) \n",
    "    else:\n",
    "        print(int(reply) ** 2) \n",
    "print('Bye')"
   ]
  },
  {
   "cell_type": "markdown",
   "metadata": {},
   "source": [
    "### Handling Errors with try Statements\n",
    "\n",
    "The most general way to handle errors in Python is to catch and recover from them completely using the Python try statement."
   ]
  },
  {
   "cell_type": "code",
   "execution_count": 9,
   "metadata": {},
   "outputs": [
    {
     "name": "stdout",
     "output_type": "stream",
     "text": [
      "Enter text:3\n",
      "9\n",
      "Enter text:stop\n",
      "Bye\n"
     ]
    }
   ],
   "source": [
    "while True:\n",
    "    reply = input('Enter text:') \n",
    "    if reply == 'stop': \n",
    "        break \n",
    "    try:\n",
    "        num = int(reply) \n",
    "    except:\n",
    "        print('Bad!' * 8) \n",
    "    else:\n",
    "        print(num ** 2) \n",
    "print('Bye')"
   ]
  },
  {
   "cell_type": "markdown",
   "metadata": {},
   "source": [
    "This version works exactly like the previous one, but we’ve replaced the explicit error check with code that assumes the conversion will work and wraps it in an exception handler for cases when it doesn’t.\n",
    "\n",
    "In terms of statement nesting, because the words ``try``, ``except``, and ``else`` are all indented to the same level, they are all considered part of the same single try statement. Notice that the else part is associated with the ``try`` here, not the ``if``. "
   ]
  },
  {
   "cell_type": "markdown",
   "metadata": {},
   "source": [
    "## Nesting Code Three Levels Deep\n",
    "\n",
    "Nesting can take us even further if we need it to."
   ]
  },
  {
   "cell_type": "code",
   "execution_count": 10,
   "metadata": {},
   "outputs": [
    {
     "name": "stdout",
     "output_type": "stream",
     "text": [
      "Enter text:4\n",
      "low\n",
      "Enter text:25\n",
      "625\n",
      "Enter text:stop\n",
      "Bye\n"
     ]
    }
   ],
   "source": [
    "while True:\n",
    "    reply = input('Enter text:') \n",
    "    if reply == 'stop':\n",
    "        break\n",
    "    elif not reply.isdigit():\n",
    "        print('Bad!' * 8) \n",
    "    else:\n",
    "        num = int(reply) \n",
    "        if num < 20:\n",
    "            print('low') \n",
    "        else:\n",
    "            print(num ** 2) \n",
    "print('Bye')"
   ]
  },
  {
   "cell_type": "markdown",
   "metadata": {},
   "source": [
    "## Assignment Statement Forms\n",
    "\n",
    "The following table illustrates the different assignment statement forms in Python, and their syntax patterns.\n",
    "\n",
    "![alt text](../figures/assignment_statements.png)"
   ]
  },
  {
   "cell_type": "markdown",
   "metadata": {},
   "source": [
    "### Augmented Assignments\n",
    "\n",
    "Known as augmented assignments, and borrowed from the C language, these formats are mostly just shorthand. They imply the combination of a binary expression and an assignment. For instance, the following two formats are roughly equivalent:"
   ]
  },
  {
   "cell_type": "raw",
   "metadata": {},
   "source": [
    "X = X + Y    # Traditional form\n",
    "X += Y       # Newer augmented form"
   ]
  },
  {
   "cell_type": "markdown",
   "metadata": {},
   "source": [
    "Augmented assignments have three advantages:\n",
    "* There’s less for you to type. Need I say more?\n",
    "* The left side has to be evaluated only\n",
    "once.In ``X += Y``,``X`` may be a complicated object expression. In the augmented form, its code must be run only once. However, in the long form, ``X = X + Y``, ``X`` appears twice and must be run twice. Because of this, augmented assignments usually run faster.\n",
    "* The optimal technique is automatically chosen. That is, for objects that support in-place changes, the augmented forms automatically perform in-place change operations instead of slower copies."
   ]
  },
  {
   "cell_type": "markdown",
   "metadata": {},
   "source": [
    "## Variable Name Rules\n",
    "\n",
    "In Python, names come into existence when you assign values to them, but there are a few rules to follow when choosing names for the subjects of your programs:\n",
    "\n",
    "* Syntax: (underscore or letter) + (any number of letters, digits, or underscores)\n",
    "\n",
    "* Case matters: SPAM is not the same as spam\n",
    "\n",
    "* Reserved words are off-limits\n",
    "\n",
    "![alt text](../figures/reserved_words.png)"
   ]
  },
  {
   "cell_type": "markdown",
   "metadata": {},
   "source": [
    "# if Tests and Syntax Rules\n",
    "\n",
    "The general form of an ``if`` statement looks like this:"
   ]
  },
  {
   "cell_type": "raw",
   "metadata": {},
   "source": [
    "if test1:              # if test\n",
    "    statement1         # associated block\n",
    "elif test2:            # Optional elifs\n",
    "    statements2\n",
    "else:\n",
    "    statements3        # Optional else"
   ]
  },
  {
   "cell_type": "markdown",
   "metadata": {},
   "source": [
    "All parts are optional, except the initial ``if`` tests."
   ]
  },
  {
   "cell_type": "code",
   "execution_count": 11,
   "metadata": {},
   "outputs": [
    {
     "name": "stdout",
     "output_type": "stream",
     "text": [
      "true\n"
     ]
    }
   ],
   "source": [
    "if 1:\n",
    "    print('true')"
   ]
  },
  {
   "cell_type": "markdown",
   "metadata": {},
   "source": [
    "To handle a false result, code the ``else``"
   ]
  },
  {
   "cell_type": "code",
   "execution_count": 12,
   "metadata": {},
   "outputs": [
    {
     "name": "stdout",
     "output_type": "stream",
     "text": [
      "false\n"
     ]
    }
   ],
   "source": [
    "if not 1:\n",
    "    print('true')\n",
    "else:\n",
    "    print('false')"
   ]
  },
  {
   "cell_type": "markdown",
   "metadata": {},
   "source": [
    "Here is an example of a more complex ``if`` statement:"
   ]
  },
  {
   "cell_type": "code",
   "execution_count": 13,
   "metadata": {},
   "outputs": [
    {
     "name": "stdout",
     "output_type": "stream",
     "text": [
      "Run away! Run away!\n"
     ]
    }
   ],
   "source": [
    "x = 'killer rabbit'\n",
    "\n",
    "if x == 'roger':\n",
    "    print(\"shave and haircut\")\n",
    "elif x == 'bugs':\n",
    "    print(\"what's up doc?\")\n",
    "else:\n",
    "    print(\"Run away! Run away!\")"
   ]
  },
  {
   "cell_type": "code",
   "execution_count": 14,
   "metadata": {},
   "outputs": [
    {
     "name": "stdout",
     "output_type": "stream",
     "text": [
      "1.99\n"
     ]
    }
   ],
   "source": [
    "choice = 'ham'\n",
    "\n",
    "if choice == 'spam':\n",
    "    print(1.25)\n",
    "elif choice == 'ham':\n",
    "    print(1.99)\n",
    "elif choice == 'eggs':\n",
    "    print(0.99)\n",
    "elif choice == 'bacon':\n",
    "    print(1.10)\n",
    "else:\n",
    "    print('Bad choice')"
   ]
  },
  {
   "cell_type": "markdown",
   "metadata": {},
   "source": [
    "Can we do this without ``if statements``?"
   ]
  },
  {
   "cell_type": "code",
   "execution_count": 15,
   "metadata": {},
   "outputs": [
    {
     "name": "stdout",
     "output_type": "stream",
     "text": [
      "1.99\n"
     ]
    }
   ],
   "source": [
    "menu = {'spam': 1.25, 'ham': 1.99, 'eggs': 0.99, 'bacon': 1.10}\n",
    "\n",
    "choice = 'ham'\n",
    "print(menu[choice])"
   ]
  },
  {
   "cell_type": "markdown",
   "metadata": {},
   "source": [
    "Use ``get`` method calls?"
   ]
  },
  {
   "cell_type": "code",
   "execution_count": 16,
   "metadata": {},
   "outputs": [
    {
     "data": {
      "text/plain": [
       "'Bad choice'"
      ]
     },
     "execution_count": 16,
     "metadata": {},
     "output_type": "execute_result"
    }
   ],
   "source": [
    "choice = \"apple juice\"\n",
    "menu.get(choice, \"Bad choice\")"
   ]
  },
  {
   "cell_type": "markdown",
   "metadata": {},
   "source": [
    "Test using ``in`` membership?"
   ]
  },
  {
   "cell_type": "code",
   "execution_count": 17,
   "metadata": {},
   "outputs": [
    {
     "name": "stdout",
     "output_type": "stream",
     "text": [
      "1.99\n"
     ]
    }
   ],
   "source": [
    "choice = \"ham\"\n",
    "\n",
    "if choice in menu:\n",
    "    print(menu[choice])\n",
    "else:\n",
    "    print(\"Bad choice\")"
   ]
  },
  {
   "cell_type": "markdown",
   "metadata": {},
   "source": [
    "Test using ``try``?"
   ]
  },
  {
   "cell_type": "code",
   "execution_count": 18,
   "metadata": {},
   "outputs": [
    {
     "name": "stdout",
     "output_type": "stream",
     "text": [
      "Bad choice\n"
     ]
    }
   ],
   "source": [
    "choice = 'apple juice'\n",
    "try:\n",
    "    print(menu[choice])\n",
    "except:\n",
    "    print(\"Bad choice\")"
   ]
  },
  {
   "cell_type": "markdown",
   "metadata": {},
   "source": [
    "### Python Syntax Revisited\n",
    "\n",
    "![alt text](../figures/nested_blocks.png)"
   ]
  },
  {
   "cell_type": "code",
   "execution_count": 19,
   "metadata": {},
   "outputs": [
    {
     "name": "stdout",
     "output_type": "stream",
     "text": [
      "block2\n",
      "block1\n",
      "block0\n"
     ]
    }
   ],
   "source": [
    "# what's the output of this?\n",
    "x = 1 \n",
    "if x:\n",
    "    y= 2 \n",
    "    if y:\n",
    "        print('block2') \n",
    "    print('block1')\n",
    "print('block0')"
   ]
  },
  {
   "cell_type": "markdown",
   "metadata": {},
   "source": [
    "One rule of thumb: although you can use spaces or tabs to indent, it’s usually not a good idea to mix the two within a block—use one or the other. Technically, tabs count for enough spaces to move the current column number up to a multiple of 8, and your code will work if you mix tabs and spaces consistently. However, such code can be difficult to change. Worse, mixing tabs and spaces makes your code difficult to read completely apart from Python’s syntax rules.\n",
    "\n",
    "![tabs_vs_spaces](https://media.giphy.com/media/l0IylSajlbPRFxH8Y/giphy.gif \"tabs_vs_spaces\")"
   ]
  },
  {
   "cell_type": "markdown",
   "metadata": {},
   "source": [
    "## The if/else Ternary Expression"
   ]
  },
  {
   "cell_type": "code",
   "execution_count": 20,
   "metadata": {},
   "outputs": [
    {
     "name": "stdout",
     "output_type": "stream",
     "text": [
      "20\n"
     ]
    }
   ],
   "source": [
    "# what's A?\n",
    "X, Y, Z = 10, 20, 30\n",
    "\n",
    "if X:\n",
    "    A = Y\n",
    "else:\n",
    "    A = Z\n",
    "print(A)"
   ]
  },
  {
   "cell_type": "markdown",
   "metadata": {},
   "source": [
    "You can write the same thing in one expression:"
   ]
  },
  {
   "cell_type": "code",
   "execution_count": 21,
   "metadata": {},
   "outputs": [
    {
     "name": "stdout",
     "output_type": "stream",
     "text": [
      "20\n"
     ]
    }
   ],
   "source": [
    "# type here\n",
    "A = Y if X else Z\n",
    "print(A)"
   ]
  },
  {
   "cell_type": "code",
   "execution_count": 22,
   "metadata": {},
   "outputs": [
    {
     "name": "stdout",
     "output_type": "stream",
     "text": [
      "t\n"
     ]
    }
   ],
   "source": [
    "# what's A?\n",
    "A = 't' if 'spam' else 'f'\n",
    "print(A)"
   ]
  },
  {
   "cell_type": "code",
   "execution_count": 23,
   "metadata": {},
   "outputs": [
    {
     "name": "stdout",
     "output_type": "stream",
     "text": [
      "f\n"
     ]
    }
   ],
   "source": [
    "# what's A?\n",
    "A = 't' if '' else 'f'\n",
    "print(A)"
   ]
  },
  {
   "cell_type": "code",
   "execution_count": 24,
   "metadata": {},
   "outputs": [
    {
     "name": "stdout",
     "output_type": "stream",
     "text": [
      "f\n"
     ]
    }
   ],
   "source": [
    "my_check = ''\n",
    "# type block if/else:\n",
    "# A is 't' if my_check exists, otherwise 'f' \n",
    "if my_check:\n",
    "    A = 't'\n",
    "else:\n",
    "    A = 'f'\n",
    "print(A)"
   ]
  },
  {
   "cell_type": "markdown",
   "metadata": {},
   "source": [
    "## While Loops"
   ]
  },
  {
   "cell_type": "raw",
   "metadata": {},
   "source": [
    "while test:             # Loop test\n",
    "    statements          # Loop body\n",
    "else:                   # Optional else\n",
    "    statements          # Run if didn't exit loop with break"
   ]
  },
  {
   "cell_type": "code",
   "execution_count": null,
   "metadata": {},
   "outputs": [],
   "source": [
    "while True:\n",
    "    print('Type CTRL-C to stop me!')"
   ]
  },
  {
   "cell_type": "code",
   "execution_count": 25,
   "metadata": {},
   "outputs": [
    {
     "name": "stdout",
     "output_type": "stream",
     "text": [
      "s p a m "
     ]
    }
   ],
   "source": [
    "x = 'spam'\n",
    "# print each item using while\n",
    "i = 0\n",
    "while i < len(x):\n",
    "    print(x[i], end=' ')\n",
    "    i += 1"
   ]
  },
  {
   "cell_type": "code",
   "execution_count": 26,
   "metadata": {},
   "outputs": [
    {
     "name": "stdout",
     "output_type": "stream",
     "text": [
      "0 1 2 3 4 5 6 7 8 9 "
     ]
    }
   ],
   "source": [
    "a = 0; b = 10\n",
    "# increment a and print as long as a is less than b\n",
    "while a < b:\n",
    "    print(a, end=' ')\n",
    "    a += 1"
   ]
  },
  {
   "cell_type": "markdown",
   "metadata": {},
   "source": [
    "## break, continue, pass, and the Loop else\n",
    "* **break**: Jumps out of the closest enclosing loop (past the entire loop statement)\n",
    "* **continue**: Jumps to the top of the closest enclosing loop (to the loop’s header line)\n",
    "* **pass**: Does nothing at all: it’s an empty statement placeholder\n",
    "* **Loop else block**: Runs if and only if the loop is exited normally (i.e., without hitting a break)"
   ]
  },
  {
   "cell_type": "raw",
   "metadata": {},
   "source": [
    "while test: \n",
    "    statements\n",
    "    if test: break         # Exit loop now, skip else if present\n",
    "    if test: continue      # Go to top of loop now, to test1\n",
    "else:\n",
    "    statements             # Run if we didn't hit a 'break'"
   ]
  },
  {
   "cell_type": "markdown",
   "metadata": {},
   "source": [
    "### pass\n",
    "\n",
    "The ``pass`` statement is a no-operation placeholder that is used when the syntax requires a statement, but you have nothing useful to say."
   ]
  },
  {
   "cell_type": "code",
   "execution_count": 27,
   "metadata": {},
   "outputs": [],
   "source": [
    "def my_function():\n",
    "    pass # fill this later"
   ]
  },
  {
   "cell_type": "markdown",
   "metadata": {},
   "source": [
    "### continue"
   ]
  },
  {
   "cell_type": "code",
   "execution_count": 28,
   "metadata": {},
   "outputs": [
    {
     "name": "stdout",
     "output_type": "stream",
     "text": [
      "8 6 4 2 0 "
     ]
    }
   ],
   "source": [
    "x = 10 \n",
    "\n",
    "while x:\n",
    "    x = x-1\n",
    "    if x % 2 != 0: continue \n",
    "    print(x, end=' ')"
   ]
  },
  {
   "cell_type": "markdown",
   "metadata": {},
   "source": [
    "### break"
   ]
  },
  {
   "cell_type": "code",
   "execution_count": 29,
   "metadata": {},
   "outputs": [
    {
     "name": "stdout",
     "output_type": "stream",
     "text": [
      "Enter Name: stop\n"
     ]
    }
   ],
   "source": [
    "while True:\n",
    "    name = input('Enter Name: ')\n",
    "    if name == 'stop': break\n",
    "    age = input('Enter age: ')\n",
    "    print('Hello', name, '=>', int(age) ** 2)"
   ]
  },
  {
   "cell_type": "markdown",
   "metadata": {},
   "source": [
    "### Loop else"
   ]
  },
  {
   "cell_type": "code",
   "execution_count": 30,
   "metadata": {},
   "outputs": [
    {
     "name": "stdout",
     "output_type": "stream",
     "text": [
      "17 is prime\n"
     ]
    }
   ],
   "source": [
    "# what does this program do?\n",
    "\n",
    "y = 17\n",
    "x = y // 2 \n",
    "\n",
    "while x > 1:\n",
    "    if y % x == 0:\n",
    "        print(y, \"has factor\", x) \n",
    "        break\n",
    "    x -= 1 \n",
    "else:\n",
    "    print(y, \"is prime\")"
   ]
  },
  {
   "cell_type": "markdown",
   "metadata": {},
   "source": [
    "## for Loops"
   ]
  },
  {
   "cell_type": "markdown",
   "metadata": {},
   "source": [
    "The ``for`` loop is a generic iterator in Python: it can step through the items in any ordered sequence or other iterable object. The ``for`` statement works on strings, lists, tuples, and other built-in iterables, as well as new user-defined objects that we’ll learn how to create later with classes. "
   ]
  },
  {
   "cell_type": "raw",
   "metadata": {},
   "source": [
    "for target in object:        # Assign object items to target\n",
    "    statements               # Repeated loop body: use target\n",
    "else:                        # Optional else part\n",
    "    statemens                # if we didn't hit a break"
   ]
  },
  {
   "cell_type": "markdown",
   "metadata": {},
   "source": [
    "The ``for`` statement also supports an optional else block, which works exactly as it does in a ``while`` loop. The ``break`` and ``continue`` statements introduced earlier also work the same in a ``for`` loop as they do in a ``while``. The ``for`` loop’s complete format can be described this way:"
   ]
  },
  {
   "cell_type": "raw",
   "metadata": {},
   "source": [
    "for target in object:         # Assign object items to target\n",
    "    statements\n",
    "    if test: break            # Exit loop now, skip else\n",
    "    if test: continue         # Go to top of loop now\n",
    "else:\n",
    "    statements                # If we didn't hit a 'break'"
   ]
  },
  {
   "cell_type": "code",
   "execution_count": 31,
   "metadata": {},
   "outputs": [
    {
     "name": "stdout",
     "output_type": "stream",
     "text": [
      "spam eggs ham "
     ]
    }
   ],
   "source": [
    "# print each item in list: [\"spam\", \"eggs\", \"ham\"]\n",
    "# using for loop\n",
    "for x in [\"spam\", \"eggs\", \"ham\"]:\n",
    "    print(x, end=' ')"
   ]
  },
  {
   "cell_type": "code",
   "execution_count": 32,
   "metadata": {},
   "outputs": [
    {
     "name": "stdout",
     "output_type": "stream",
     "text": [
      "s p a m  \n",
      "e g g s  \n",
      "h a m  \n"
     ]
    }
   ],
   "source": [
    "# print each character of each item in list [\"spam\", \"eggs\", \"ham\"]\n",
    "# using for loop\n",
    "for item in [\"spam\", \"eggs\", \"ham\"]:\n",
    "    for char in item:\n",
    "        print(char, end=' ')\n",
    "    print(\" \")"
   ]
  },
  {
   "cell_type": "code",
   "execution_count": 33,
   "metadata": {},
   "outputs": [
    {
     "name": "stdout",
     "output_type": "stream",
     "text": [
      "10\n"
     ]
    }
   ],
   "source": [
    "# sum values in [1, 2, 3, 4]\n",
    "# using for loop\n",
    "total = 0\n",
    "for x in [1, 2, 3, 4]:\n",
    "    total += x\n",
    "    \n",
    "print(total)"
   ]
  },
  {
   "cell_type": "code",
   "execution_count": 34,
   "metadata": {},
   "outputs": [
    {
     "name": "stdout",
     "output_type": "stream",
     "text": [
      "24\n"
     ]
    }
   ],
   "source": [
    "# multiply all values in [1, 2, 3, 4]\n",
    "# using for loop\n",
    "prod = 1\n",
    "for x in [1, 2, 3, 4]:\n",
    "    prod *= x\n",
    "print(prod)"
   ]
  },
  {
   "cell_type": "markdown",
   "metadata": {},
   "source": [
    "### Other data types"
   ]
  },
  {
   "cell_type": "code",
   "execution_count": 35,
   "metadata": {},
   "outputs": [],
   "source": [
    "D = {'a': 1, 'b': 2, 'c': 3}"
   ]
  },
  {
   "cell_type": "code",
   "execution_count": 36,
   "metadata": {},
   "outputs": [
    {
     "name": "stdout",
     "output_type": "stream",
     "text": [
      "a => 1\n",
      "b => 2\n",
      "c => 3\n"
     ]
    }
   ],
   "source": [
    "# print key => value of D\n",
    "for key in D:\n",
    "    print(key, \"=>\", D[key])"
   ]
  },
  {
   "cell_type": "code",
   "execution_count": 37,
   "metadata": {},
   "outputs": [
    {
     "data": {
      "text/plain": [
       "dict_items([('a', 1), ('b', 2), ('c', 3)])"
      ]
     },
     "execution_count": 37,
     "metadata": {},
     "output_type": "execute_result"
    }
   ],
   "source": [
    "# recall D.items() ?\n",
    "D.items()"
   ]
  },
  {
   "cell_type": "code",
   "execution_count": 38,
   "metadata": {},
   "outputs": [
    {
     "name": "stdout",
     "output_type": "stream",
     "text": [
      "a => 1\n",
      "b => 2\n",
      "c => 3\n"
     ]
    }
   ],
   "source": [
    "# print using D.items()\n",
    "for key, value in D.items():\n",
    "    print(key, \"=>\", value)"
   ]
  },
  {
   "cell_type": "code",
   "execution_count": 39,
   "metadata": {},
   "outputs": [
    {
     "name": "stdout",
     "output_type": "stream",
     "text": [
      "1 2\n",
      "3 4\n",
      "5 6\n"
     ]
    }
   ],
   "source": [
    "# does this work?\n",
    "T = [(1, 2), (3, 4), (5, 6)]\n",
    "\n",
    "for both in T:\n",
    "    a, b = both\n",
    "    print(a, b)"
   ]
  },
  {
   "cell_type": "markdown",
   "metadata": {},
   "source": [
    "### Nested Loops"
   ]
  },
  {
   "cell_type": "code",
   "execution_count": 40,
   "metadata": {},
   "outputs": [
    {
     "name": "stdout",
     "output_type": "stream",
     "text": [
      "(4, 5)\n"
     ]
    }
   ],
   "source": [
    "my_collection = [\"aaa\", 111, (4, 5), 2.01]\n",
    "\n",
    "tests = [(4, 5), 3.14]\n",
    "\n",
    "# print an item in tests if it is in my_collection\n",
    "for key in tests:\n",
    "    if key in my_collection:\n",
    "        print(key)\n",
    "# no need to write another for loop"
   ]
  },
  {
   "cell_type": "markdown",
   "metadata": {},
   "source": [
    "### Counter Loops Range\n",
    "\n",
    "``range`` is an iterable that generates items on demand, so we need to wrap it in a list call to display its results all at once."
   ]
  },
  {
   "cell_type": "code",
   "execution_count": 41,
   "metadata": {},
   "outputs": [
    {
     "data": {
      "text/plain": [
       "range(0, 3)"
      ]
     },
     "execution_count": 41,
     "metadata": {},
     "output_type": "execute_result"
    }
   ],
   "source": [
    "range(3)"
   ]
  },
  {
   "cell_type": "code",
   "execution_count": 42,
   "metadata": {},
   "outputs": [
    {
     "data": {
      "text/plain": [
       "([0, 1, 2, 3, 4], [2, 3, 4], [0, 2, 4, 6, 8])"
      ]
     },
     "execution_count": 42,
     "metadata": {},
     "output_type": "execute_result"
    }
   ],
   "source": [
    "list(range(5)), list(range(2, 5)), list(range(0, 10, 2))"
   ]
  },
  {
   "cell_type": "code",
   "execution_count": 43,
   "metadata": {},
   "outputs": [
    {
     "name": "stdout",
     "output_type": "stream",
     "text": [
      "0 Pythons\n",
      "1 Pythons\n",
      "2 Pythons\n"
     ]
    }
   ],
   "source": [
    "for i in range(3):\n",
    "    print(i, 'Pythons')"
   ]
  },
  {
   "cell_type": "code",
   "execution_count": null,
   "metadata": {},
   "outputs": [],
   "source": []
  }
 ],
 "metadata": {
  "kernelspec": {
   "display_name": "Python 3",
   "language": "python",
   "name": "python3"
  },
  "language_info": {
   "codemirror_mode": {
    "name": "ipython",
    "version": 3
   },
   "file_extension": ".py",
   "mimetype": "text/x-python",
   "name": "python",
   "nbconvert_exporter": "python",
   "pygments_lexer": "ipython3",
   "version": "3.7.0"
  }
 },
 "nbformat": 4,
 "nbformat_minor": 2
}
