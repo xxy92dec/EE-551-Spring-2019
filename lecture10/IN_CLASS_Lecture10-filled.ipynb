{
 "cells": [
  {
   "cell_type": "markdown",
   "metadata": {},
   "source": [
    "# EXERCISES"
   ]
  },
  {
   "cell_type": "markdown",
   "metadata": {},
   "source": [
    "### Write a class with name ``Time``, and define a function with name ``printTime`` that prints hours, minutes and seconds."
   ]
  },
  {
   "cell_type": "code",
   "execution_count": 34,
   "metadata": {},
   "outputs": [
    {
     "name": "stdout",
     "output_type": "stream",
     "text": [
      "9:14:37\n"
     ]
    }
   ],
   "source": [
    "# type here\n",
    "class Time(object):\n",
    "    pass\n",
    "\n",
    "def printTime(time):\n",
    "    print(str(time.hours) + \":\" +\n",
    "          str(time.minutes) + \":\" +\n",
    "          str(time.seconds)\n",
    "         )\n",
    "    \n",
    "time = Time()\n",
    "time.hours = 9\n",
    "time.minutes = 14\n",
    "time.seconds = 37\n",
    "\n",
    "printTime(time)"
   ]
  },
  {
   "cell_type": "markdown",
   "metadata": {},
   "source": [
    "### Now, make ``printTime`` a method of a class."
   ]
  },
  {
   "cell_type": "code",
   "execution_count": 35,
   "metadata": {},
   "outputs": [
    {
     "name": "stdout",
     "output_type": "stream",
     "text": [
      "9:14:37\n"
     ]
    }
   ],
   "source": [
    "# type here\n",
    "class Time(object):\n",
    "    def printTime(self):\n",
    "        print(str(self.hours) + \":\" +\n",
    "              str(self.minutes) + \":\" +\n",
    "              str(self.seconds)\n",
    "             )\n",
    "\n",
    "time = Time()\n",
    "time.hours = 9\n",
    "time.minutes = 14\n",
    "time.seconds = 37\n",
    "\n",
    "time.printTime()"
   ]
  },
  {
   "cell_type": "markdown",
   "metadata": {},
   "source": [
    "### Define a method ``increment`` that takes a value in terms of seconds and increments the time."
   ]
  },
  {
   "cell_type": "code",
   "execution_count": 36,
   "metadata": {},
   "outputs": [
    {
     "name": "stdout",
     "output_type": "stream",
     "text": [
      "9:14:57\n",
      "9:18:2\n"
     ]
    }
   ],
   "source": [
    "# type here\n",
    "class Time(object):\n",
    "    def printTime(self):\n",
    "        print(str(self.hours) + \":\" +\n",
    "              str(self.minutes) + \":\" +\n",
    "              str(self.seconds)\n",
    "             )\n",
    "    def increment(self, seconds):\n",
    "        self.seconds += seconds\n",
    "        while self.seconds >=60:\n",
    "            self.minutes += 1\n",
    "            self.seconds -= 60\n",
    "        while self.minutes >= 60:\n",
    "            self.hours += 1\n",
    "            self.minutes -=60\n",
    "        \n",
    "time = Time()\n",
    "time.hours = 9\n",
    "time.minutes = 14\n",
    "time.seconds = 37\n",
    "\n",
    "time.increment(20)\n",
    "time.printTime()\n",
    "\n",
    "time.increment(185)\n",
    "time.printTime()"
   ]
  },
  {
   "cell_type": "markdown",
   "metadata": {},
   "source": [
    "### Define a method ``after`` that takes another Time object and return True if current time is later than the input time."
   ]
  },
  {
   "cell_type": "code",
   "execution_count": 38,
   "metadata": {},
   "outputs": [
    {
     "name": "stdout",
     "output_type": "stream",
     "text": [
      "Current time is after earlier time True\n",
      "Current time is after later time False\n"
     ]
    }
   ],
   "source": [
    "# type here\n",
    "class Time(object):\n",
    "    def printTime(self):\n",
    "        print(str(self.hours) + \":\" +\n",
    "              str(self.minutes) + \":\" +\n",
    "              str(self.seconds)\n",
    "             )\n",
    "    def increment(self, seconds):\n",
    "        self.seconds += seconds\n",
    "        while self.seconds >=60:\n",
    "            self.minutes += 1\n",
    "            self.seconds -= 60\n",
    "        while self.minutes >= 60:\n",
    "            self.hours += 1\n",
    "            self.minutes -=60\n",
    "    def after(self, other):\n",
    "        if self.hours > other.hours:\n",
    "            return True\n",
    "        elif self.hours == other.hours:\n",
    "            if self.minutes > other.minutes:\n",
    "                return True\n",
    "            elif self.minutes == other.minutes:\n",
    "                if self.seconds > other.seconds:\n",
    "                    return True\n",
    "        return False\n",
    "    \n",
    "currentTime = Time()\n",
    "currentTime.hours, currentTime.minutes, currentTime.seconds = 9, 14, 30\n",
    "\n",
    "earlierTime = Time()\n",
    "earlierTime.hours, earlierTime.minutes, earlierTime.seconds = 9, 11, 30\n",
    "        \n",
    "laterTime = Time()\n",
    "laterTime.hours, laterTime.minutes, laterTime.seconds = 9, 14, 47\n",
    "\n",
    "print(\"Current time is after earlier time\", \n",
    "      currentTime.after(earlierTime))\n",
    "\n",
    "print(\"Current time is after later time\",\n",
    "     currentTime.after(laterTime))\n"
   ]
  },
  {
   "cell_type": "markdown",
   "metadata": {},
   "source": [
    "### Initialize the ``Time`` class so that it takes hours, minutes and seconds and creates attributes for each. Set the default values to 0."
   ]
  },
  {
   "cell_type": "code",
   "execution_count": 39,
   "metadata": {},
   "outputs": [
    {
     "name": "stdout",
     "output_type": "stream",
     "text": [
      "9:14:37\n"
     ]
    }
   ],
   "source": [
    "# type here\n",
    "class Time(object):\n",
    "    def __init__(self, hours=0, minutes=0, seconds=0):\n",
    "        self.hours = hours\n",
    "        self.minutes = minutes\n",
    "        self.seconds = seconds\n",
    "    def printTime(self):\n",
    "        print(str(self.hours) + \":\" +\n",
    "              str(self.minutes) + \":\" +\n",
    "              str(self.seconds)\n",
    "             )\n",
    "    def increment(self, seconds):\n",
    "        self.seconds += seconds\n",
    "        while self.seconds >=60:\n",
    "            self.minutes += 1\n",
    "            self.seconds -= 60\n",
    "        while self.minutes >= 60:\n",
    "            self.hours += 1\n",
    "            self.minutes -=60\n",
    "    def after(self, other):\n",
    "        if self.hours > other.hours:\n",
    "            return True\n",
    "        elif self.hours == other.hours:\n",
    "            if self.minutes > other.minutes:\n",
    "                return True\n",
    "            elif self.minutes == other.minutes:\n",
    "                if self.seconds > other.seconds:\n",
    "                    return True\n",
    "        return False\n",
    "    \n",
    "time = Time(9, 14, 37)\n",
    "time.printTime()\n"
   ]
  },
  {
   "cell_type": "markdown",
   "metadata": {},
   "source": [
    "### Write a ``Point`` class that takes x and y values and overwrite the print method so that the class prints (x, y) when called. The default values are 0."
   ]
  },
  {
   "cell_type": "code",
   "execution_count": 42,
   "metadata": {},
   "outputs": [
    {
     "name": "stdout",
     "output_type": "stream",
     "text": [
      "(3,5)\n"
     ]
    }
   ],
   "source": [
    "# print here\n",
    "class Point(object):\n",
    "    def __init__(self, x=0, y=0):\n",
    "        self.x = x\n",
    "        self.y = y\n",
    "    def __str__(self):\n",
    "        return \"(\" + str(self.x) + \",\" + str(self.y) + \")\"\n",
    "        \n",
    "point = Point(3, 5)\n",
    "print(point)"
   ]
  },
  {
   "cell_type": "markdown",
   "metadata": {},
   "source": [
    "### Write a method for class ``Point`` that overwrites + so that it takes another ``Point`` class and return a class whose x and y values are summation of x and y attributes of two classes, respectively."
   ]
  },
  {
   "cell_type": "code",
   "execution_count": 43,
   "metadata": {},
   "outputs": [
    {
     "name": "stdout",
     "output_type": "stream",
     "text": [
      "(8,11)\n"
     ]
    }
   ],
   "source": [
    "# type here\n",
    "class Point(object):\n",
    "    def __init__(self, x=0, y=0):\n",
    "        self.x = x\n",
    "        self.y = y\n",
    "    def __str__(self):\n",
    "        return \"(\" + str(self.x) + \",\" + str(self.y) + \")\"\n",
    "    def __add__(self, other):\n",
    "        return Point(self.x + other.x, self.y + other.y)\n",
    "    \n",
    "p1 = Point(3, 4)\n",
    "p2 = Point(5, 7)\n",
    "\n",
    "p3 = p1 + p2\n",
    "print(p3)"
   ]
  },
  {
   "cell_type": "markdown",
   "metadata": {},
   "source": [
    "### Write a method for class ``Point`` that overwrites * operator and returns dot product of two points."
   ]
  },
  {
   "cell_type": "code",
   "execution_count": 44,
   "metadata": {},
   "outputs": [],
   "source": [
    "# type here\n",
    "class Point(object):\n",
    "    def __init__(self, x=0, y=0):\n",
    "        self.x = x\n",
    "        self.y = y\n",
    "    def __str__(self):\n",
    "        return \"(\" + str(self.x) + \",\" + str(self.y) + \")\"\n",
    "    def __add__(self, other):\n",
    "        return Point(self.x + other.x, self.y + other.y)\n",
    "    def __mul__(self, other):\n",
    "        return self.x * other.x + self.y * other.y"
   ]
  },
  {
   "cell_type": "code",
   "execution_count": 45,
   "metadata": {},
   "outputs": [
    {
     "name": "stdout",
     "output_type": "stream",
     "text": [
      "43\n"
     ]
    }
   ],
   "source": [
    "p1 = Point(3, 4)\n",
    "p2 = Point(5, 7)\n",
    "\n",
    "print(p1*p2)"
   ]
  },
  {
   "cell_type": "code",
   "execution_count": null,
   "metadata": {},
   "outputs": [],
   "source": []
  }
 ],
 "metadata": {
  "kernelspec": {
   "display_name": "Python 3",
   "language": "python",
   "name": "python3"
  },
  "language_info": {
   "codemirror_mode": {
    "name": "ipython",
    "version": 3
   },
   "file_extension": ".py",
   "mimetype": "text/x-python",
   "name": "python",
   "nbconvert_exporter": "python",
   "pygments_lexer": "ipython3",
   "version": "3.7.0"
  }
 },
 "nbformat": 4,
 "nbformat_minor": 2
}
