{
 "cells": [
  {
   "cell_type": "markdown",
   "metadata": {},
   "source": [
    "# Object Oriented Programming: The Big Picture"
   ]
  },
  {
   "cell_type": "markdown",
   "metadata": {},
   "source": [
    "This chapter begins our exploration of the Python class— a coding structure and device used to implement new kinds of objects in Python that support inheritance. Classes are Python’s main object-oriented programming (OOP) tool, so we’ll also look at OOP basics."
   ]
  },
  {
   "cell_type": "markdown",
   "metadata": {},
   "source": [
    "For instance, suppose we decide to implement that hypothetical pizza-making robot. If we implement it using classes, we can model more of its real-world structure and relationships. Two aspects of OOP prove useful here:"
   ]
  },
  {
   "cell_type": "markdown",
   "metadata": {},
   "source": [
    "* **inheritance:** Pizza-making robots are kinds of robots, so they possess the usual robot properties. In OOP terms, we say they “inherit” properties from the general category of all robots. These common properties need to be implemented only once for the general case and can be reused in part or in full by all types of robots we may build in the future.\n",
    "\n",
    "* **composition:** Pizza-making robots are really collections of components that work together as a team. For instance, for our robot to be successful, it might need arms to roll dough, motors to maneuver to the oven, and so on. In OOP parlance, our robot is an example of composition; it contains other objects that it activates to do its bidding. Each component might be coded as a class, which defines its own behavior and relationships."
   ]
  },
  {
   "cell_type": "markdown",
   "metadata": {},
   "source": [
    "From a more concrete programming perspective, classes are Python program units, just like functions and modules: they are another compartment for packaging logic and data. In fact, classes also define new namespaces, much like modules. But, compared to other program units we’ve already seen, classes have three critical distinctions that make them more useful when it comes to building new objects:"
   ]
  },
  {
   "cell_type": "markdown",
   "metadata": {},
   "source": [
    "* Multiple instances: Classes are essentially factories for generating one or more objects. Every time we call a class, we generate a new object with a distinct namespace.\n",
    "\n",
    "* Customization via inheritance: Classes also support the OOP notion of inheritance; we can extend a class by re- defining its attributes outside the class itself in new software components coded as subclasses.\n",
    "\n",
    "* Operator overloading: By providing special protocol methods, classes can define objects that respond to the sorts of operations we saw at work on built-in types. For instance, objects made with classes can be sliced, concatenated, indexed, and so on."
   ]
  },
  {
   "cell_type": "markdown",
   "metadata": {},
   "source": [
    "In the Python object model, classes and the instances you generate from them are two distinct object types:"
   ]
  },
  {
   "cell_type": "markdown",
   "metadata": {},
   "source": [
    "**Classes:** Serve as instance factories. Their attributes provide behavior—data and functions —that is inherited by all the instances generated from them (e.g., a function to compute an employee’s salary from pay and hours)."
   ]
  },
  {
   "cell_type": "markdown",
   "metadata": {},
   "source": [
    "**Instances:** represent the concrete items in a program’s domain. Their attributes record data that varies per specific object (e.g., an employee’s Social Security number)."
   ]
  },
  {
   "cell_type": "markdown",
   "metadata": {},
   "source": [
    "The primary difference between classes and instances is that classes are a kind of *factory* for generating instances. For example, in a realistic application, we might have an ``Employee`` class that defines what it means to be an employee; from that class, we generate actual ``Employee`` instances."
   ]
  },
  {
   "cell_type": "markdown",
   "metadata": {},
   "source": [
    "![alt text](../figures/class_tree.png)"
   ]
  },
  {
   "cell_type": "markdown",
   "metadata": {},
   "source": [
    "### Coding Class Trees"
   ]
  },
  {
   "cell_type": "markdown",
   "metadata": {},
   "source": [
    "To build the tree in above Figure, for example, we would run Python code of the following form:"
   ]
  },
  {
   "cell_type": "code",
   "execution_count": null,
   "metadata": {},
   "outputs": [],
   "source": [
    "class C2: pass            # Make class objects (ovals)\n",
    "class C3: pass\n",
    "\n",
    "class C1(C2, C3): pass    # Linked to superclasses\n",
    "\n",
    "I1 = C1()                 # Make instance objects (rectangles)\n",
    "I2 = C1()                        # linked to their classes"
   ]
  },
  {
   "cell_type": "markdown",
   "metadata": {},
   "source": [
    "Classes provide behavior for their instances with method functions we create by coding ``def`` statements inside ``class`` statements."
   ]
  },
  {
   "cell_type": "code",
   "execution_count": 5,
   "metadata": {},
   "outputs": [
    {
     "name": "stdout",
     "output_type": "stream",
     "text": [
      "bob\n"
     ]
    }
   ],
   "source": [
    "class C2: pass                 # Make class objects (ovals)\n",
    "class C3: pass\n",
    "\n",
    "class C1(C2, C3):              # Make and link class C1\n",
    "    def setname(self, who):    # Assign name: C1.setname\n",
    "        self.name = who        # Self is either I1 or I2\n",
    "\n",
    "I1 = C1()                      # Make two instances\n",
    "I2 = C1() \n",
    "\n",
    "I1.setname('bob')              # Sets I1.name to 'bob'\n",
    "I2.setname('sue')              # Sets I2.name to 'sue'\n",
    "print(I1.name)                 # Prints 'bob'"
   ]
  },
  {
   "cell_type": "markdown",
   "metadata": {},
   "source": [
    "### Operator Overloading"
   ]
  },
  {
   "cell_type": "markdown",
   "metadata": {},
   "source": [
    "If a class wants to guarantee that an attribute like name is always set in its instances, it more typically will fill out the attribute at construction time, like this:"
   ]
  },
  {
   "cell_type": "code",
   "execution_count": null,
   "metadata": {},
   "outputs": [],
   "source": [
    "class C2: pass                 # Make class objects (ovals)\n",
    "class C3: pass\n",
    "\n",
    "class C1(C2, C3):              \n",
    "    def __init__(self, who):    # Set name when constructed\n",
    "        self.name = who         # Self is either I1 or I2\n",
    "\n",
    "I1 = C1('bob')                  # Sets I1.name to 'bob'\n",
    "I2 = C1('sue')                  # Sets I2.name to 'sue'\n",
    "\n",
    "print(I1.name)                 # Prints 'bob'"
   ]
  },
  {
   "cell_type": "markdown",
   "metadata": {},
   "source": [
    "If it’s coded or inherited, Python automatically calls a method named ``__init__`` each time an instance is generated from a class. The effect here is to initialize instances when they are made, without requiring extra method calls."
   ]
  },
  {
   "cell_type": "markdown",
   "metadata": {},
   "source": [
    "They’re also optional: if omitted, the operations are not supported. If no ``__init__`` is present, class calls return an empty instance, without initializing it."
   ]
  },
  {
   "cell_type": "markdown",
   "metadata": {},
   "source": [
    "### Polymorphism and Classes"
   ]
  },
  {
   "cell_type": "markdown",
   "metadata": {},
   "source": [
    "Suppose you’re assigned the task of implementing an employee database application. As a Python OOP programmer, you might begin by coding a general superclass that defines default behaviors common to all the kinds of employees in your organization:"
   ]
  },
  {
   "cell_type": "code",
   "execution_count": 6,
   "metadata": {},
   "outputs": [],
   "source": [
    "class Employee:                     # General Superclass\n",
    "    def computeSalary(self): return 500   # Common or default behaviors\n",
    "    def giveRaise(self): pass\n",
    "    def promote(self): pass\n",
    "    def retire(self): pass"
   ]
  },
  {
   "cell_type": "markdown",
   "metadata": {},
   "source": [
    "Once you’ve coded this general behavior, you can specialize it for each specific kind of employee to reflect how the various types differ from the norm."
   ]
  },
  {
   "cell_type": "code",
   "execution_count": 7,
   "metadata": {},
   "outputs": [],
   "source": [
    "class Engineer(Employee):          # Specialized subclass\n",
    "    def computeSalary(self): return 1000  # Something custom here"
   ]
  },
  {
   "cell_type": "markdown",
   "metadata": {},
   "source": [
    "Because the ``computeSalary`` version here appears lower in the class tree, it will replace (override) the general version in ``Employee``."
   ]
  },
  {
   "cell_type": "markdown",
   "metadata": {},
   "source": [
    "You then create instances of the kinds of employee classes that the real employees belong to, to get the correct behavior:"
   ]
  },
  {
   "cell_type": "code",
   "execution_count": 8,
   "metadata": {},
   "outputs": [],
   "source": [
    "bob = Employee()      # Default behavior\n",
    "tom = Employee()      # Default behavior\n",
    "sue = Engineer()      # Custom salary calculator"
   ]
  },
  {
   "cell_type": "markdown",
   "metadata": {},
   "source": [
    "Ultimately, these three instance objects might wind up embedded in a larger container object—for instance, a list:"
   ]
  },
  {
   "cell_type": "code",
   "execution_count": 9,
   "metadata": {},
   "outputs": [
    {
     "name": "stdout",
     "output_type": "stream",
     "text": [
      "500\n",
      "500\n",
      "1000\n"
     ]
    }
   ],
   "source": [
    "company = [bob, tom, sue]      # A composite object\n",
    "\n",
    "for emp in company:\n",
    "    print(emp.computeSalary()) # Run this object's version: default or custom"
   ]
  },
  {
   "cell_type": "markdown",
   "metadata": {},
   "source": [
    "This is yet another instance of the idea of *polymorphism*. Recall that polymorphism means that the meaning of an operation depends on the object being operated on."
   ]
  },
  {
   "cell_type": "markdown",
   "metadata": {},
   "source": [
    "# Class Coding Basics"
   ]
  },
  {
   "cell_type": "code",
   "execution_count": 10,
   "metadata": {},
   "outputs": [],
   "source": [
    "class FirstClass:                # Define a class object\n",
    "    def setdata(self, value):    # Define class's methods\n",
    "        self.data = value        # self is the instance\n",
    "    def display(self):\n",
    "        print(self.data)         # self.data: per instance"
   ]
  },
  {
   "cell_type": "code",
   "execution_count": 11,
   "metadata": {},
   "outputs": [],
   "source": [
    "x = FirstClass()        # Make two instances\n",
    "y = FirstClass()        # Each is a new namespace"
   ]
  },
  {
   "cell_type": "markdown",
   "metadata": {},
   "source": [
    "Properly speaking, we have three objects: two instances and a class."
   ]
  },
  {
   "cell_type": "markdown",
   "metadata": {},
   "source": [
    "We have three linked spaces as sketched in below Figure:"
   ]
  },
  {
   "cell_type": "markdown",
   "metadata": {},
   "source": [
    "![alt text](../figures/linked_name_spaces.png)"
   ]
  },
  {
   "cell_type": "code",
   "execution_count": 12,
   "metadata": {},
   "outputs": [],
   "source": [
    "x.setdata(\"King Arthur\")     # Call methods: self is x\n",
    "y.setdata(3.14159)           # Runs: FirstClass.setdata(y, 3.14159)"
   ]
  },
  {
   "cell_type": "markdown",
   "metadata": {},
   "source": [
    "Neither x nor y has a ``setdata`` attribute of its own, so to find it, Python follows the link from instance to class. And that’s about all there is to inheritance in Python: it happens at attribute qualification time, and it just involves looking up names in linked objects -- here, by following the is-a links in above figure."
   ]
  },
  {
   "cell_type": "markdown",
   "metadata": {},
   "source": [
    "Because classes can generate multiple instances, methods must go through the self argument to get to the instance to be processed. "
   ]
  },
  {
   "cell_type": "code",
   "execution_count": 13,
   "metadata": {},
   "outputs": [
    {
     "name": "stdout",
     "output_type": "stream",
     "text": [
      "King Arthur\n"
     ]
    }
   ],
   "source": [
    "x.display()      # self.data differs in each instance"
   ]
  },
  {
   "cell_type": "code",
   "execution_count": 14,
   "metadata": {},
   "outputs": [
    {
     "name": "stdout",
     "output_type": "stream",
     "text": [
      "3.14159\n"
     ]
    }
   ],
   "source": [
    "y.display()       # Runs: FirstClass.display(y)"
   ]
  },
  {
   "cell_type": "markdown",
   "metadata": {},
   "source": [
    "Consider that we can change instance attributes in the class itself."
   ]
  },
  {
   "cell_type": "code",
   "execution_count": 15,
   "metadata": {},
   "outputs": [],
   "source": [
    "x.data = \"New value\"    # Can get/set attributes"
   ]
  },
  {
   "cell_type": "code",
   "execution_count": 16,
   "metadata": {},
   "outputs": [
    {
     "name": "stdout",
     "output_type": "stream",
     "text": [
      "New value\n"
     ]
    }
   ],
   "source": [
    "x.display()"
   ]
  },
  {
   "cell_type": "markdown",
   "metadata": {},
   "source": [
    "Although less common, we could even generate an entirely new attribute in the in- stance’s namespace by assigning to its name outside the class’s method functions:"
   ]
  },
  {
   "cell_type": "code",
   "execution_count": null,
   "metadata": {},
   "outputs": [],
   "source": [
    "x.anothername = \"spam\"  # Can set new attributes here too!"
   ]
  },
  {
   "cell_type": "markdown",
   "metadata": {},
   "source": [
    "### Classes are customized by Inheritance"
   ]
  },
  {
   "cell_type": "markdown",
   "metadata": {},
   "source": [
    "Instances inherit from classes, and classes inherit from superclasses."
   ]
  },
  {
   "cell_type": "markdown",
   "metadata": {},
   "source": [
    "To illustrate the role of inheritance, this next example builds on the previous one."
   ]
  },
  {
   "cell_type": "code",
   "execution_count": 17,
   "metadata": {},
   "outputs": [],
   "source": [
    "class SecondClass(FirstClass):                    # Inherits setdata\n",
    "    def display(self):                            # Changes display\n",
    "        print('Current value = \"%s\"' % self.data)"
   ]
  },
  {
   "cell_type": "markdown",
   "metadata": {},
   "source": [
    "![alt text](../figures/inheritance.png)"
   ]
  },
  {
   "cell_type": "markdown",
   "metadata": {},
   "source": [
    "``SecondClass`` defines the display method to print with a different format. By defining an attribute with the same name as an attribute in ``FirstClass``, ``SecondClass`` effectively replaces the ``display`` attribute in its superclass."
   ]
  },
  {
   "cell_type": "code",
   "execution_count": 18,
   "metadata": {},
   "outputs": [],
   "source": [
    "z = SecondClass()"
   ]
  },
  {
   "cell_type": "code",
   "execution_count": 19,
   "metadata": {},
   "outputs": [],
   "source": [
    "z.setdata(42) # Finds setdata in FirstClass"
   ]
  },
  {
   "cell_type": "code",
   "execution_count": 20,
   "metadata": {},
   "outputs": [
    {
     "name": "stdout",
     "output_type": "stream",
     "text": [
      "Current value = \"42\"\n"
     ]
    }
   ],
   "source": [
    "z.display()    # Finds overridden method in SecondClass"
   ]
  },
  {
   "cell_type": "markdown",
   "metadata": {},
   "source": [
    "Now, here’s a crucial thing to notice about OOP: the specialization introduced in ``SecondClass`` is completely external to ``FirstClass``."
   ]
  },
  {
   "cell_type": "code",
   "execution_count": 21,
   "metadata": {},
   "outputs": [
    {
     "name": "stdout",
     "output_type": "stream",
     "text": [
      "New value\n"
     ]
    }
   ],
   "source": [
    "x.display()      # x is still a FirstClass instance"
   ]
  },
  {
   "cell_type": "markdown",
   "metadata": {},
   "source": [
    "### Classes are attributes in Modules"
   ]
  },
  {
   "cell_type": "markdown",
   "metadata": {},
   "source": [
    "If our ``FirstClass`` were coded in a module file instead of being typed interactively, we could import it and use its name normally in a class header line:"
   ]
  },
  {
   "cell_type": "raw",
   "metadata": {},
   "source": [
    "from modulename import FirstClass # Copy name into my scope\n",
    "\n",
    "class SecondClass(FirstClass):    # Use class name directly\n",
    "    def display(self):\n",
    "        pass"
   ]
  },
  {
   "cell_type": "markdown",
   "metadata": {},
   "source": [
    "Or equivalently:"
   ]
  },
  {
   "cell_type": "raw",
   "metadata": {},
   "source": [
    "import modulename                            # Access the whole module\n",
    "class SecondClass(modulename.FirstClass):    # Qualify to reference\n",
    "    def display(self):\n",
    "        pass"
   ]
  },
  {
   "cell_type": "markdown",
   "metadata": {},
   "source": [
    "Common convention in Python dictates that class names should begin with an uppercase letter, to help make them more distinct:"
   ]
  },
  {
   "cell_type": "raw",
   "metadata": {},
   "source": [
    "import person             # Lowercase for modules\n",
    "x = person.Person()       # Uppercase for classes"
   ]
  },
  {
   "cell_type": "markdown",
   "metadata": {},
   "source": [
    "### Classes Can Intercept Python Operators"
   ]
  },
  {
   "cell_type": "markdown",
   "metadata": {},
   "source": [
    "*Operator overloading* lets objects coded with classes intercept and respond to operations that work on built-in types: addition, slic- ing, printing, qualification, and so on."
   ]
  },
  {
   "cell_type": "markdown",
   "metadata": {},
   "source": [
    "* Methods names with double underscores ``__X__`` are special hooks.\n",
    "* Such methods are called automatically when instances appear in built-in operations. For instance, if an instance object appears in a ``+`` expression.\n",
    "* Classes may override most built-in type operations.\n",
    "* There are no defaults for operator overloading methods, and none are required. For instance, if there is no ``__add__``, ``+`` expression raise exceptions."
   ]
  },
  {
   "cell_type": "code",
   "execution_count": 22,
   "metadata": {},
   "outputs": [],
   "source": [
    "class ThirdClass(SecondClass):               # Inherit from SecondClass\n",
    "    def __init__(self, value):               # On \"ThirdClass(value)\"\n",
    "        self.data = value\n",
    "    def __add__(self, other):                # On \"self + other\"\n",
    "        return ThirdClass(self.data + other)\n",
    "    def __str__(self):                       # On \"print(self)\", \"str()\"\n",
    "        return '[ThirdClass: %s]' % self.data\n",
    "    def mul(self, other):                    # In-place change: named\n",
    "        self.data *= other"
   ]
  },
  {
   "cell_type": "markdown",
   "metadata": {},
   "source": [
    "* ``__init__`` is run when a new instance object is created: ``self`` is the new ThirdClass object.\n",
    "* ``__add__`` is run when a ``ThirdClass`` instance appears in a ``+`` expression.\n",
    "* ``__str__`` is run when an object is printed."
   ]
  },
  {
   "cell_type": "code",
   "execution_count": 24,
   "metadata": {},
   "outputs": [],
   "source": [
    "a = ThirdClass('abc')        # __init__ called"
   ]
  },
  {
   "cell_type": "code",
   "execution_count": 25,
   "metadata": {},
   "outputs": [
    {
     "name": "stdout",
     "output_type": "stream",
     "text": [
      "Current value = \"abc\"\n"
     ]
    }
   ],
   "source": [
    "a.display()  # Inherited method called"
   ]
  },
  {
   "cell_type": "code",
   "execution_count": 26,
   "metadata": {},
   "outputs": [
    {
     "name": "stdout",
     "output_type": "stream",
     "text": [
      "[ThirdClass: abc]\n"
     ]
    }
   ],
   "source": [
    "print(a)  # __str__: returns display string"
   ]
  },
  {
   "cell_type": "code",
   "execution_count": 27,
   "metadata": {},
   "outputs": [],
   "source": [
    "b = a + 'xyz'   # __add__: makes a new instance"
   ]
  },
  {
   "cell_type": "code",
   "execution_count": 28,
   "metadata": {},
   "outputs": [
    {
     "data": {
      "text/plain": [
       "<__main__.ThirdClass at 0x106fc6c18>"
      ]
     },
     "execution_count": 28,
     "metadata": {},
     "output_type": "execute_result"
    }
   ],
   "source": [
    "b"
   ]
  },
  {
   "cell_type": "code",
   "execution_count": 29,
   "metadata": {},
   "outputs": [
    {
     "name": "stdout",
     "output_type": "stream",
     "text": [
      "Current value = \"abcxyz\"\n"
     ]
    }
   ],
   "source": [
    "b.display() # b has all ThirdClass methods"
   ]
  },
  {
   "cell_type": "code",
   "execution_count": 30,
   "metadata": {},
   "outputs": [
    {
     "name": "stdout",
     "output_type": "stream",
     "text": [
      "[ThirdClass: abcxyz]\n"
     ]
    }
   ],
   "source": [
    "print(b) # __str__: returns display string"
   ]
  },
  {
   "cell_type": "code",
   "execution_count": 31,
   "metadata": {},
   "outputs": [],
   "source": [
    "a.mul(3) # mul: changes instance in place"
   ]
  },
  {
   "cell_type": "code",
   "execution_count": 32,
   "metadata": {},
   "outputs": [
    {
     "name": "stdout",
     "output_type": "stream",
     "text": [
      "[ThirdClass: abcabcabc]\n"
     ]
    }
   ],
   "source": [
    "print(a)"
   ]
  },
  {
   "cell_type": "markdown",
   "metadata": {},
   "source": [
    "### The World's Simplest Python Class"
   ]
  },
  {
   "cell_type": "code",
   "execution_count": null,
   "metadata": {},
   "outputs": [],
   "source": [
    "class rec: # Empty namespace object\n",
    "    pass"
   ]
  },
  {
   "cell_type": "markdown",
   "metadata": {},
   "source": [
    "We can start attaching attributes to the class by assigning names to it completely outside of the original class statement:"
   ]
  },
  {
   "cell_type": "code",
   "execution_count": null,
   "metadata": {},
   "outputs": [],
   "source": [
    "rec.name = 'Bob'  # Just objects with attributes"
   ]
  },
  {
   "cell_type": "code",
   "execution_count": null,
   "metadata": {},
   "outputs": [],
   "source": [
    "rec.age = 40"
   ]
  },
  {
   "cell_type": "markdown",
   "metadata": {},
   "source": [
    "And, after we’ve created these attributes by assignment, we can fetch them with the usual syntax."
   ]
  },
  {
   "cell_type": "code",
   "execution_count": null,
   "metadata": {},
   "outputs": [],
   "source": [
    "print(rec.name)"
   ]
  },
  {
   "cell_type": "markdown",
   "metadata": {},
   "source": [
    "Notice that this works even though there are no instances of the class yet; classes are objects in their own right, even without instances. In fact, they are just self-contained namespaces; as long as we have a reference to a class, we can set or change its attributes anytime we wish. "
   ]
  },
  {
   "cell_type": "code",
   "execution_count": null,
   "metadata": {},
   "outputs": [],
   "source": [
    "x = rec()    # Instances inherit class names\n",
    "y = rec()"
   ]
  },
  {
   "cell_type": "markdown",
   "metadata": {},
   "source": [
    "Because they remember the class from which they were made, though, they will obtain the attributes we attached to the class by inheritance:"
   ]
  },
  {
   "cell_type": "code",
   "execution_count": null,
   "metadata": {},
   "outputs": [],
   "source": [
    "x.name, y.name # name is stored on the class only"
   ]
  },
  {
   "cell_type": "markdown",
   "metadata": {},
   "source": [
    "If we do assign an attribute to an instance, though, it creates (or changes) the attribute in that object."
   ]
  },
  {
   "cell_type": "code",
   "execution_count": null,
   "metadata": {},
   "outputs": [],
   "source": [
    "x.name = 'Sue'  # But assignment changes x only"
   ]
  },
  {
   "cell_type": "code",
   "execution_count": null,
   "metadata": {},
   "outputs": [],
   "source": [
    "rec.name, x.name, y.name"
   ]
  },
  {
   "cell_type": "markdown",
   "metadata": {},
   "source": [
    "The attributes of a namespace object are usually implemented as dictionaries, and class inheritance trees are (generally speaking) just dictionaries with links to other dictionaries."
   ]
  },
  {
   "cell_type": "markdown",
   "metadata": {},
   "source": [
    "Normally, ``__dict__`` literally is an instance’s attribute namespace."
   ]
  },
  {
   "cell_type": "code",
   "execution_count": null,
   "metadata": {},
   "outputs": [],
   "source": [
    "list(rec.__dict__.keys())"
   ]
  },
  {
   "cell_type": "markdown",
   "metadata": {},
   "source": [
    "Fetch the names without underscore?"
   ]
  },
  {
   "cell_type": "markdown",
   "metadata": {},
   "source": [
    "What about the namespace of x an y?"
   ]
  },
  {
   "cell_type": "code",
   "execution_count": null,
   "metadata": {},
   "outputs": [],
   "source": [
    "y.__dict__"
   ]
  },
  {
   "cell_type": "markdown",
   "metadata": {},
   "source": [
    "An attribute can often be fetched by either dictionary indexing or attribute notation, but only if it’s present on the object in question—attribute notation kicks off inheritance search, but indexing looks in the single object only."
   ]
  },
  {
   "cell_type": "code",
   "execution_count": null,
   "metadata": {},
   "outputs": [],
   "source": [
    "x.name, x.__dict__['name']  # Attributes present here are dict keys"
   ]
  },
  {
   "cell_type": "code",
   "execution_count": null,
   "metadata": {},
   "outputs": [],
   "source": [
    "x.age # But attribute fetch checks classes to"
   ]
  },
  {
   "cell_type": "code",
   "execution_count": null,
   "metadata": {},
   "outputs": [],
   "source": [
    "x.__dict__['age'] # Indexing dict does not do inheritance"
   ]
  },
  {
   "cell_type": "markdown",
   "metadata": {},
   "source": [
    "To facilitate inheritance search on attribute fetches, each instance has a link to its class that Python creates for us—it’s called ``__class__``."
   ]
  },
  {
   "cell_type": "code",
   "execution_count": null,
   "metadata": {},
   "outputs": [],
   "source": [
    "x.__class__"
   ]
  },
  {
   "cell_type": "markdown",
   "metadata": {},
   "source": [
    "Classes also have a ``__bases__`` attribute, which is a tuple of references to their superclass objects."
   ]
  },
  {
   "cell_type": "code",
   "execution_count": null,
   "metadata": {},
   "outputs": [],
   "source": [
    "ThirdClass.__bases__"
   ]
  },
  {
   "cell_type": "code",
   "execution_count": null,
   "metadata": {},
   "outputs": [],
   "source": [
    "rec.__bases__"
   ]
  },
  {
   "cell_type": "markdown",
   "metadata": {},
   "source": [
    "``methods``, normally created by a def nested in a class, can be created completely independently of any class object. "
   ]
  },
  {
   "cell_type": "code",
   "execution_count": null,
   "metadata": {},
   "outputs": [],
   "source": [
    "def uppername(obj):\n",
    "    return obj.name.upper()   # Still meeds a self argument (obj)"
   ]
  },
  {
   "cell_type": "code",
   "execution_count": null,
   "metadata": {},
   "outputs": [],
   "source": [
    "uppername(x) # Call as a simple function"
   ]
  },
  {
   "cell_type": "markdown",
   "metadata": {},
   "source": [
    "If we assign this simple function to an attribute of our class, though, it becomes a method, callable through any instance."
   ]
  },
  {
   "cell_type": "code",
   "execution_count": null,
   "metadata": {},
   "outputs": [],
   "source": [
    "rec.method = uppername  # Now it's a class's method!"
   ]
  },
  {
   "cell_type": "code",
   "execution_count": null,
   "metadata": {},
   "outputs": [],
   "source": [
    "x.method() # Run method to process x"
   ]
  },
  {
   "cell_type": "code",
   "execution_count": null,
   "metadata": {},
   "outputs": [],
   "source": [
    "y.method() # Same, but pass y to seld"
   ]
  },
  {
   "cell_type": "code",
   "execution_count": null,
   "metadata": {},
   "outputs": [],
   "source": [
    "rec.method(x) # Can call through instance or class"
   ]
  },
  {
   "cell_type": "markdown",
   "metadata": {},
   "source": [
    "### Records Revisited: Classes versus Dictionaries"
   ]
  },
  {
   "cell_type": "markdown",
   "metadata": {},
   "source": [
    "We showed how to use dictionaries, tuples, and lists to record properties of entities in our programs, generically called *records*. "
   ]
  },
  {
   "cell_type": "markdown",
   "metadata": {},
   "source": [
    "It turns out that classes can often serve better in this role—they package information like dictionaries, but can also bundle processing logic in the form of methods. "
   ]
  },
  {
   "cell_type": "markdown",
   "metadata": {},
   "source": [
    "Here is an example for tuple and dictionary based records:"
   ]
  },
  {
   "cell_type": "code",
   "execution_count": null,
   "metadata": {},
   "outputs": [],
   "source": [
    "rec = ('Bob', 40.5, ['dev', 'mgr']) # Tuple-based record"
   ]
  },
  {
   "cell_type": "code",
   "execution_count": null,
   "metadata": {},
   "outputs": [],
   "source": [
    "print(rec[0])"
   ]
  },
  {
   "cell_type": "code",
   "execution_count": null,
   "metadata": {},
   "outputs": [],
   "source": [
    "rec = {}  # Dictionary-based record"
   ]
  },
  {
   "cell_type": "code",
   "execution_count": null,
   "metadata": {},
   "outputs": [],
   "source": [
    "rec['name'] = 'Bob'\n",
    "rec['age'] = 40.5\n",
    "rec['jobs'] = ['dev', 'mgr']"
   ]
  },
  {
   "cell_type": "code",
   "execution_count": null,
   "metadata": {},
   "outputs": [],
   "source": [
    "print(rec['name'])"
   ]
  },
  {
   "cell_type": "markdown",
   "metadata": {},
   "source": [
    "There are multiple ways to do this with classes."
   ]
  },
  {
   "cell_type": "code",
   "execution_count": null,
   "metadata": {},
   "outputs": [],
   "source": [
    "class rec: pass\n",
    "\n",
    "rec.name = 'Bob'   # Class-based record\n",
    "rec.age = 40.5\n",
    "rec.jobs = ['dev', 'mgr']"
   ]
  },
  {
   "cell_type": "code",
   "execution_count": null,
   "metadata": {},
   "outputs": [],
   "source": [
    "print(rec.name)"
   ]
  },
  {
   "cell_type": "markdown",
   "metadata": {},
   "source": [
    "This works, but a new ``class`` statement will be required for each distinct record we will need. Perhaps more typically, we can instead generate instances of an empty class to represent each distinct entity:"
   ]
  },
  {
   "cell_type": "code",
   "execution_count": null,
   "metadata": {},
   "outputs": [],
   "source": [
    "class rec: pass"
   ]
  },
  {
   "cell_type": "code",
   "execution_count": null,
   "metadata": {},
   "outputs": [],
   "source": [
    "pers1 = rec()   # Instance-based records"
   ]
  },
  {
   "cell_type": "code",
   "execution_count": null,
   "metadata": {},
   "outputs": [],
   "source": [
    "pers1.name = 'Bob'\n",
    "pers1.jobs = ['dev', 'mgr']\n",
    "pers1.age = 40.5"
   ]
  },
  {
   "cell_type": "code",
   "execution_count": null,
   "metadata": {},
   "outputs": [],
   "source": [
    "pers2 = rec()\n",
    "pers2.name = 'Sue'\n",
    "pers2.jobs = ['dev', 'cto']"
   ]
  },
  {
   "cell_type": "code",
   "execution_count": null,
   "metadata": {},
   "outputs": [],
   "source": [
    "pers1.name, pers2.name"
   ]
  },
  {
   "cell_type": "markdown",
   "metadata": {},
   "source": [
    "We might instead code a more full-blown class to implement the record and its processing—something that data-oriented dictionaries do not directly support:"
   ]
  },
  {
   "cell_type": "code",
   "execution_count": null,
   "metadata": {},
   "outputs": [],
   "source": [
    "class Person:\n",
    "    def __init__(self, name, jobs, age=None):   # class = data + logic\n",
    "        self.name = name\n",
    "        self.jobs = jobs\n",
    "        self.age = age\n",
    "    def info(self):\n",
    "        return (self.name, self.jobs)"
   ]
  },
  {
   "cell_type": "code",
   "execution_count": null,
   "metadata": {},
   "outputs": [],
   "source": [
    "rec1 = Person('Bob', ['dev', 'mgr'], 40.5) # Construction calls\n",
    "rec2 = Person('Sue', ['dev', 'cto'])"
   ]
  },
  {
   "cell_type": "code",
   "execution_count": null,
   "metadata": {},
   "outputs": [],
   "source": [
    "rec1.jobs, rec2.info()"
   ]
  },
  {
   "cell_type": "markdown",
   "metadata": {},
   "source": [
    "In the end, although types like dictionaries and tuples are flexible, classes allow us to add behavior to objects in ways that built-in types and simple functions do not directly support. "
   ]
  },
  {
   "cell_type": "markdown",
   "metadata": {},
   "source": [
    "# A more Realistic Example"
   ]
  },
  {
   "cell_type": "markdown",
   "metadata": {},
   "source": [
    "We are going to code two classes:"
   ]
  },
  {
   "cell_type": "markdown",
   "metadata": {},
   "source": [
    "* ``Person`` - a class that creates and processes information about people.\n",
    "* ``Manager`` - a customization of ``Person`` that modifies inherited behavior."
   ]
  },
  {
   "cell_type": "markdown",
   "metadata": {},
   "source": [
    "### Making Instances"
   ]
  },
  {
   "cell_type": "raw",
   "metadata": {},
   "source": [
    "# File person.py (start)\n",
    "class Person: # Start a class"
   ]
  },
  {
   "cell_type": "markdown",
   "metadata": {},
   "source": [
    "### Coding Constructors"
   ]
  },
  {
   "cell_type": "raw",
   "metadata": {},
   "source": [
    "# Add record field initialization\n",
    "class Person:\n",
    "    def __init__(self, name. job, pay):  # takes 3 arguments\n",
    "        self.name = name                   # Fill out fields when created\n",
    "        self.job = job                     # self is the new instance obj\n",
    "        self.pay = pay"
   ]
  },
  {
   "cell_type": "markdown",
   "metadata": {},
   "source": [
    "In OO terms,``self`` is the newly created instance object, and name, job, and pay become ``state`` information—descriptive data saved on an object for later use. "
   ]
  },
  {
   "cell_type": "raw",
   "metadata": {},
   "source": [
    "# Add defaults for constructor arguments\n",
    "class Person:  \n",
    "    def __init__(self, name, job=None, pay=0): # Normal function args\n",
    "        self.name = name\n",
    "        self.job = job\n",
    "        self.pay = pay"
   ]
  },
  {
   "cell_type": "markdown",
   "metadata": {},
   "source": [
    "### Testing As You Go"
   ]
  },
  {
   "cell_type": "markdown",
   "metadata": {},
   "source": [
    "Python programmers use the interactive prompt for simple one-off tests but do more substantial testing by writing code at the bottom of the file that contains the objects to be tested, like this:"
   ]
  },
  {
   "cell_type": "raw",
   "metadata": {},
   "source": [
    "# Add incremental self-test code\n",
    "class Person:\n",
    "    def __init__(self, name, job=None, pay=0):\n",
    "        self.name = name \n",
    "        self.job = job \n",
    "        self.pay = pay\n",
    "        \n",
    "bob = Person('Bob Smith') # Test the class\n",
    "sue = Person('Sue Jones', job='dev', pay=100000)\n",
    "\n",
    "print(bob.name, bob.pay)\n",
    "print(sue.name, sue.pay)"
   ]
  },
  {
   "cell_type": "markdown",
   "metadata": {},
   "source": [
    "When this file runs as a script, the test code at the bottom makes two instances of our class and prints two attributes of each (name and pay)."
   ]
  },
  {
   "cell_type": "markdown",
   "metadata": {},
   "source": [
    "### Using Code Two Ways"
   ]
  },
  {
   "cell_type": "markdown",
   "metadata": {},
   "source": [
    "It would be better to arrange to run the test statements at the bottom only when the file is run for testing, not when the file is imported."
   ]
  },
  {
   "cell_type": "raw",
   "metadata": {},
   "source": [
    "# Allow this file to be imported as well as run/tested\n",
    "\n",
    "class Person:\n",
    "    def __init__(self, name, job=None, pay=0):\n",
    "        self.name = name \n",
    "        self.job = job \n",
    "        self.pay = pay\n",
    "\n",
    "if __name__ == '__main__': # When run for testing only\n",
    "    # self-test code\n",
    "    bob = Person('Bob Smith')\n",
    "    sue = Person('Sue Jones', job='dev', pay=100000) \n",
    "    print(bob.name, bob.pay)\n",
    "    print(sue.name, sue.pay)"
   ]
  },
  {
   "cell_type": "markdown",
   "metadata": {},
   "source": [
    "running the file as a top-level script tests it because its ``__name__`` is ``__main__``, but importing it as a library of classes later does not:"
   ]
  },
  {
   "cell_type": "raw",
   "metadata": {},
   "source": [
    "run person.py"
   ]
  },
  {
   "cell_type": "raw",
   "metadata": {},
   "source": [
    "import person"
   ]
  },
  {
   "cell_type": "markdown",
   "metadata": {},
   "source": [
    "### Addind Behavior Methods"
   ]
  },
  {
   "cell_type": "raw",
   "metadata": {},
   "source": [
    "# Process embedded built-in types: strings, mutability\n",
    "class Person:\n",
    "    def __init__(self, name, job=None, pay=0):\n",
    "        self.name = name \n",
    "        self.job = job \n",
    "        self.pay = pay\n",
    "        \n",
    "if __name__ == '__main__':\n",
    "    bob = Person('Bob Smith')\n",
    "    sue = Person('Sue Jones', job='dev', pay=100000) \n",
    "    print(bob.name, bob.pay)\n",
    "    print(sue.name, sue.pay)\n",
    "    print(bob.name.split()[-1]) # Extract object's last name \n",
    "    sue.pay *= 1.10 # Give this object a raise \n",
    "    print('%.2f' % sue.pay)"
   ]
  },
  {
   "cell_type": "markdown",
   "metadata": {},
   "source": [
    "Hardcoding operations like these outside of the class can lead to maintenance problems in the future."
   ]
  },
  {
   "cell_type": "markdown",
   "metadata": {},
   "source": [
    "## Coding Methods"
   ]
  },
  {
   "cell_type": "markdown",
   "metadata": {},
   "source": [
    "What we really want to do here is employ a software design concept known as *encapsulation*—wrapping up operation logic behind interfaces, such that each operation is coded only once in our program. That way, if our needs change in the future, there is just one copy to update. Moreover, we’re free to change the single copy’s internals almost arbitrarily, without breaking the code that uses it."
   ]
  },
  {
   "cell_type": "raw",
   "metadata": {},
   "source": [
    "# Add methods to encapsulate operations for maintainability\n",
    "class Person:\n",
    "    def __init__(self, name, job=None, pay=0):\n",
    "        self.name = name \n",
    "        self.job = job \n",
    "        self.pay = pay\n",
    "    def lastName(self):\n",
    "        return self.name.split()[-1]\n",
    "    def giveRaise(self, percent):\n",
    "        self.pay = int(self.pay * (1 + percent))\n",
    "\n",
    "if __name__ == '__main__':\n",
    "    bob = Person('Bob Smith')\n",
    "    sue = Person('Sue Jones', job='dev', pay=100000) \n",
    "    print(bob.name, bob.pay)\n",
    "    print(sue.name, sue.pay)\n",
    "    print(bob.lastName(), sue.lastName()) sue.giveRaise(.10)\n",
    "    print(sue.pay)"
   ]
  }
 ],
 "metadata": {
  "kernelspec": {
   "display_name": "Python 3",
   "language": "python",
   "name": "python3"
  },
  "language_info": {
   "codemirror_mode": {
    "name": "ipython",
    "version": 3
   },
   "file_extension": ".py",
   "mimetype": "text/x-python",
   "name": "python",
   "nbconvert_exporter": "python",
   "pygments_lexer": "ipython3",
   "version": "3.7.0"
  }
 },
 "nbformat": 4,
 "nbformat_minor": 2
}
